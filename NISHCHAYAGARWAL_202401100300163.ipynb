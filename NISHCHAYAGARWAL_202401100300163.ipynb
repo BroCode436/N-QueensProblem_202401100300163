{
  "nbformat": 4,
  "nbformat_minor": 0,
  "metadata": {
    "colab": {
      "provenance": []
    },
    "kernelspec": {
      "name": "python3",
      "display_name": "Python 3"
    },
    "language_info": {
      "name": "python"
    }
  },
  "cells": [
    {
      "cell_type": "code",
      "execution_count": 4,
      "metadata": {
        "colab": {
          "base_uri": "https://localhost:8080/"
        },
        "id": "5LYMbSr7dTUa",
        "outputId": "64933670-f17e-4603-d616-763142949eb5"
      },
      "outputs": [
        {
          "output_type": "stream",
          "name": "stdout",
          "text": [
            "Enter board size (N >= 4): 15\n",
            ". . . . . . . . . . . Q . . . \n",
            ". . . . . . . Q . . . . . . . \n",
            ". . . . . . . . . . Q . . . . \n",
            ". . . Q . . . . . . . . . . . \n",
            ". Q . . . . . . . . . . . . . \n",
            ". . . . . . . . . . . . Q . . \n",
            ". . . . Q . . . . . . . . . . \n",
            ". . . . . . Q . . . . . . . . \n",
            ". . . . . . . . . . . . . Q . \n",
            "Q . . . . . . . . . . . . . . \n",
            ". . . . . . . . . . . . . . Q \n",
            ". . . . . Q . . . . . . . . . \n",
            ". . . . . . . . Q . . . . . . \n",
            ". . Q . . . . . . . . . . . . \n",
            ". . . . . . . . . Q . . . . . \n",
            "\n"
          ]
        }
      ],
      "source": [
        "import random\n",
        "\n",
        "def calculate_conflicts(state, N):\n",
        "    \"\"\"Returns the number of attacking queen pairs in the current state.\"\"\"\n",
        "    conflicts = 0\n",
        "    for i in range(N):\n",
        "        for j in range(i + 1, N):\n",
        "            # Check if queens are in the same row or on the same diagonal\n",
        "            if state[i] == state[j] or abs(state[i] - state[j]) == abs(i - j):\n",
        "                conflicts += 1\n",
        "    return conflicts\n",
        "\n",
        "def get_best_successor(state, N):\n",
        "    \"\"\"Finds the best successor state with the least conflicts.\"\"\"\n",
        "    min_conflicts = float('inf')  # Initialize with a large number\n",
        "    best_state = state[:]\n",
        "\n",
        "    for col in range(N):  # Iterate over each column\n",
        "        original_row = state[col]  # Save the current row position of the queen\n",
        "        for row in range(N):  # Try moving the queen to each row in the column\n",
        "            if row == original_row:\n",
        "                continue  # Skip if it's the current position\n",
        "\n",
        "            new_state = state[:]\n",
        "            new_state[col] = row  # Move the queen to the new row\n",
        "            conflicts = calculate_conflicts(new_state, N)  # Calculate conflicts for new state\n",
        "\n",
        "            if conflicts < min_conflicts:  # Update best state if conflicts are reduced\n",
        "                min_conflicts = conflicts\n",
        "                best_state = new_state\n",
        "\n",
        "    return best_state, min_conflicts\n",
        "\n",
        "def solve_n_queens(N, max_restarts=50):\n",
        "    \"\"\"Solves the N-Queens problem using Hill Climbing with Random Restarts.\"\"\"\n",
        "    for _ in range(max_restarts):  # Allow multiple restarts to escape local minima\n",
        "        state = [random.randint(0, N - 1) for _ in range(N)]  # Generate a random initial state\n",
        "\n",
        "        while True:\n",
        "            new_state, new_conflicts = get_best_successor(state, N)  # Get the best possible successor\n",
        "\n",
        "            if calculate_conflicts(state, N) <= new_conflicts:\n",
        "                break  # Stop if no better state is found (local minimum)\n",
        "\n",
        "            state = new_state  # Move to the better state\n",
        "\n",
        "        if calculate_conflicts(state, N) == 0:\n",
        "            return state  # Found a valid solution with zero conflicts\n",
        "\n",
        "    return None  # No solution found within the given restarts\n",
        "\n",
        "def print_solution(state, N):\n",
        "    \"\"\"Prints the board representation of the solution.\"\"\"\n",
        "    if state is None:\n",
        "        print(\"No solution found.\")\n",
        "        return\n",
        "\n",
        "    for row in range(N):\n",
        "        line = \"\"\n",
        "        for col in range(N):\n",
        "            line += \"Q \" if state[col] == row else \". \"  # Place queen or empty space\n",
        "        print(line)\n",
        "    print()\n",
        "\n",
        "# Example usage\n",
        "N = int(input(\"Enter board size (N >= 4): \"))  # Get board size from user\n",
        "solution = solve_n_queens(N)  # Solve the problem\n",
        "print_solution(solution, N)  # Print the solution"
      ]
    }
  ]
}